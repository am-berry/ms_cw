{
 "cells": [
  {
   "cell_type": "markdown",
   "metadata": {
    "toc": true
   },
   "source": [
    "<h1>Table of Contents<span class=\"tocSkip\"></span></h1>\n",
    "<div class=\"toc\"><ul class=\"toc-item\"></ul></div>"
   ]
  },
  {
   "cell_type": "code",
   "execution_count": 1,
   "metadata": {},
   "outputs": [],
   "source": [
    "## Import libraries\n",
    "import gym\n",
    "import numpy as np\n",
    "from time import time\n",
    "import matplotlib.pyplot as plt\n",
    "%matplotlib inline\n",
    "import torch\n",
    "from collections import namedtuple, deque"
   ]
  },
  {
   "cell_type": "markdown",
   "metadata": {},
   "source": [
    "Our current state is represented by a 210x160x3 Tensor. This represents the height, length, and the three RGB color channels of the Atari game."
   ]
  },
  {
   "cell_type": "code",
   "execution_count": 2,
   "metadata": {},
   "outputs": [
    {
     "name": "stdout",
     "output_type": "stream",
     "text": [
      "State shape is (210, 160, 3)\n",
      "\n",
      "Possible actions are 9: \n",
      "['NOOP', 'UP', 'RIGHT', 'LEFT', 'DOWN', 'UPRIGHT', 'UPLEFT', 'DOWNRIGHT', 'DOWNLEFT']\n"
     ]
    }
   ],
   "source": [
    "## Initiate the environment\n",
    "env = gym.make(\"MsPacman-v0\")\n",
    "\n",
    "print('State shape is {}\\n'.format(env.observation_space.shape))\n",
    "print('Possible actions are {}: '.format(env.action_space.n))\n",
    "print(env.env.get_action_meanings())"
   ]
  },
  {
   "cell_type": "code",
   "execution_count": 3,
   "metadata": {},
   "outputs": [],
   "source": [
    "# if gpu is to be used\n",
    "device = torch.device(\"cuda\" if torch.cuda.is_available() else \"cpu\")"
   ]
  },
  {
   "cell_type": "code",
   "execution_count": 4,
   "metadata": {},
   "outputs": [],
   "source": [
    "## Create a class that stores the agent's experiences and retrieves random batches from its memory\n",
    "class ReplayMemory:\n",
    "    \n",
    "    def __init__(self, capacity=10000, batch_size=32):\n",
    "        \"\"\"Initiate the class parameters\"\"\"\n",
    "        self.capacity = capacity\n",
    "        self.batch_size = batch_size\n",
    "        self.buffer = deque(maxlen=capacity)\n",
    "        self.experience = namedtuple('Transition', ('state', 'action', 'next_state', 'reward', 'done'))\n",
    "\n",
    "    def push(self, state, action, reward, next_state, done):\n",
    "        \"\"\"Add a new experience to the memory buffer\"\"\"\n",
    "        e = self.experience(state, action, reward, next_state, done)\n",
    "        self.buffer.append(e)\n",
    "\n",
    "    def __len__(self):\n",
    "        return len(self.buffer)        \n",
    "        \n",
    "    def sample(self):\n",
    "        \"\"\"Sample a random batch of experiences from the memory\"\"\"\n",
    "        samples = random.sample(self.buffer, self.batch_size)\n",
    "\n",
    "        states = np.array([state[0] for state in samples])\n",
    "        actions = np.array([action[1] for action in samples])\n",
    "        rewards = np.array([reward[2] for reward in samples])\n",
    "        next_states = np.array([next_state[3] for next_state in samples])\n",
    "        dones = np.array([done[4] for done in samples])\n",
    "        \n",
    "        return (states, actions, rewards, next_states, dones)\n",
    "    \n"
   ]
  },
  {
   "cell_type": "code",
   "execution_count": 5,
   "metadata": {},
   "outputs": [
    {
     "name": "stderr",
     "output_type": "stream",
     "text": [
      "Using TensorFlow backend.\n"
     ]
    }
   ],
   "source": [
    "import random\n",
    "from keras.layers import Dense, Dropout, Flatten\n",
    "from keras.layers.convolutional import Conv2D\n",
    "from keras.models import Sequential\n",
    "from keras.optimizers import Adam\n",
    "\n",
    "class DQNAgent:\n",
    "\n",
    "    def __init__(self, observation_space, action_space, capacity=10000, batch_size=32, \n",
    "                 learning_rate=0.001, gamma = 0.95, epsilon=1.0, epsilon_min = 0.05, epsilon_decay = 0.9999):\n",
    "        \"\"\"Creates an instance of a Deep-Q-Network Agent\"\"\"\n",
    "        self.state_shape = observation_space.shape # shape of any given state\n",
    "        self.action_size = action_space.n # number of possible actions\n",
    "        self.learning_rate = learning_rate # model's learning rate\n",
    "        self.gamma = gamma # discount rate\n",
    "        self.batch_size = batch_size # size of batches sampled from memory\n",
    "        self.epsilon = epsilon  # exploration rate\n",
    "        self.epsilon_min = epsilon_min # threshold of epsilon\n",
    "        self.epsilon_decay = epsilon_decay # decay of exploration rate\n",
    "        self.model = self.build_model() # instance of dqn model\n",
    "        self.memory = ReplayMemory(capacity=capacity, batch_size=self.batch_size) # expirience replay memory\n",
    "\n",
    "    def build_model(self):\n",
    "        \"\"\"Build the Convolutional DQN model\"\"\"\n",
    "        model = Sequential()\n",
    "        # add convolutional layers\n",
    "        model.add(Conv2D(32, (3, 3), activation='relu', input_shape=self.state_shape))\n",
    "        model.add(Conv2D(64, (3, 2), activation='relu'))\n",
    "        model.add(Conv2D(64, (3, 2), activation='relu'))\n",
    "        model.add(Flatten())\n",
    "        # add fully connected layers with dropout\n",
    "        model.add(Dense(64, activation='relu'))\n",
    "        model.add(Dropout(0.5))\n",
    "        model.add(Dense(32, activation='relu'))\n",
    "        model.add(Dropout(0.5))\n",
    "        model.add(Dense(16, activation='relu'))\n",
    "        model.add(Dropout(0.5))\n",
    "        model.add(Dense(self.action_size, activation='linear'))\n",
    "        # compile model with MSE loss and Adam optimizer\n",
    "        model.compile(loss='mse', optimizer=Adam(lr=self.learning_rate))\n",
    "        return model\n",
    "\n",
    "    def get_action(self, state):\n",
    "        \"\"\"Select action according to the epsilon-greedy policy\"\"\"\n",
    "        # get the correct dimension that the models accepts\n",
    "        # transform state from shape (210,160,3) to (1,210,160,3)\n",
    "        state = np.expand_dims(state, axis=0) \n",
    "        action = self.model.predict(state)\n",
    "        if random.random() > self.epsilon:\n",
    "            return np.argmax(action) # exploitation\n",
    "        else:\n",
    "            return random.choice(np.arange(self.action_size)) # exploration\n",
    "\n",
    "    def train_model(self, states, actions, rewards, next_states, dones):\n",
    "        \"\"\"Train the model using random batches of experiences from the memory\"\"\"\n",
    "        states, actions, rewards, next_states, dones = self.memory.sample() # random memory sample\n",
    "        # iterate over the batch\n",
    "        for i in range(len(states)):\n",
    "            state, action, reward, next_state, done = states[i], actions[i], rewards[i], next_states[i], dones[i]\n",
    "\n",
    "            state = np.expand_dims(state, axis=0)\n",
    "            next_state = np.expand_dims(next_state, axis=0)\n",
    "\n",
    "            target = self.model.predict(state)\n",
    "            target_val = self.model.predict(next_state)\n",
    "\n",
    "            if done:\n",
    "                target[0][action] = reward\n",
    "            else:\n",
    "                target[0][action] = (reward + self.gamma * np.max(target))\n",
    "            \n",
    "            # get the loss of the model\n",
    "            loss = self.model.fit(state, target, verbose=0).history['loss'][0]\n",
    "            return loss"
   ]
  },
  {
   "cell_type": "code",
   "execution_count": 6,
   "metadata": {},
   "outputs": [],
   "source": [
    "EPISODES = 200 # Number of episodes\n",
    "losses = []\n",
    "\n",
    "# Get an instance of a DQN agent\n",
    "dqnAgent = DQNAgent(env.observation_space, env.action_space, capacity=10000, batch_size=32, \n",
    "                 learning_rate=0.001, gamma = 0.95, epsilon=1.0, epsilon_min = 0.05, epsilon_decay = 0.9999)"
   ]
  },
  {
   "cell_type": "code",
   "execution_count": 7,
   "metadata": {},
   "outputs": [
    {
     "name": "stdout",
     "output_type": "stream",
     "text": [
      "Training initiated...\n",
      "Episode 10 of 200:\n",
      "   reward: 100.00 \n",
      "   loss: 291101.72 \n",
      "   ε: 0.469 \n",
      "   time taken: 22.22 sec\n",
      "Episode 20 of 200:\n",
      "   reward: 540.00 \n",
      "   loss: 48.66 \n",
      "   ε: 0.210 \n",
      "   time taken: 34.20 sec\n",
      "Episode 30 of 200:\n",
      "   reward: 1900.00 \n",
      "   loss: 71.41 \n",
      "   ε: 0.094 \n",
      "   time taken: 54.11 sec\n",
      "Episode 40 of 200:\n",
      "   reward: 310.00 \n",
      "   loss: 13.36 \n",
      "   ε: 0.050 \n",
      "   time taken: 33.93 sec\n",
      "Episode 50 of 200:\n",
      "   reward: 500.00 \n",
      "   loss: 45.19 \n",
      "   ε: 0.050 \n",
      "   time taken: 34.14 sec\n",
      "Episode 60 of 200:\n",
      "   reward: 280.00 \n",
      "   loss: 7.26 \n",
      "   ε: 0.050 \n",
      "   time taken: 45.46 sec\n",
      "Episode 70 of 200:\n",
      "   reward: 440.00 \n",
      "   loss: 2.32 \n",
      "   ε: 0.050 \n",
      "   time taken: 59.59 sec\n",
      "Episode 80 of 200:\n",
      "   reward: 500.00 \n",
      "   loss: 6.16 \n",
      "   ε: 0.050 \n",
      "   time taken: 51.77 sec\n",
      "Episode 90 of 200:\n",
      "   reward: 470.00 \n",
      "   loss: 6.04 \n",
      "   ε: 0.050 \n",
      "   time taken: 41.03 sec\n",
      "Episode 100 of 200:\n",
      "   reward: 450.00 \n",
      "   loss: 3.71 \n",
      "   ε: 0.050 \n",
      "   time taken: 47.42 sec\n",
      "Episode 110 of 200:\n",
      "   reward: 240.00 \n",
      "   loss: 0.52 \n",
      "   ε: 0.050 \n",
      "   time taken: 45.12 sec\n",
      "Episode 120 of 200:\n",
      "   reward: 240.00 \n",
      "   loss: 0.73 \n",
      "   ε: 0.050 \n",
      "   time taken: 48.77 sec\n",
      "Episode 130 of 200:\n",
      "   reward: 470.00 \n",
      "   loss: 1.55 \n",
      "   ε: 0.050 \n",
      "   time taken: 44.67 sec\n",
      "Episode 140 of 200:\n",
      "   reward: 410.00 \n",
      "   loss: 0.00 \n",
      "   ε: 0.050 \n",
      "   time taken: 32.55 sec\n",
      "Episode 150 of 200:\n",
      "   reward: 600.00 \n",
      "   loss: 0.00 \n",
      "   ε: 0.050 \n",
      "   time taken: 57.50 sec\n",
      "Episode 160 of 200:\n",
      "   reward: 180.00 \n",
      "   loss: 0.00 \n",
      "   ε: 0.050 \n",
      "   time taken: 35.23 sec\n",
      "Episode 170 of 200:\n",
      "   reward: 270.00 \n",
      "   loss: 0.00 \n",
      "   ε: 0.050 \n",
      "   time taken: 40.81 sec\n",
      "Episode 180 of 200:\n",
      "   reward: 200.00 \n",
      "   loss: 0.00 \n",
      "   ε: 0.050 \n",
      "   time taken: 36.49 sec\n",
      "Episode 190 of 200:\n",
      "   reward: 210.00 \n",
      "   loss: 0.00 \n",
      "   ε: 0.050 \n",
      "   time taken: 33.65 sec\n",
      "Episode 200 of 200:\n",
      "   reward: 600.00 \n",
      "   loss: 0.00 \n",
      "   ε: 0.050 \n",
      "   time taken: 39.87 sec\n",
      "Training ended.\n"
     ]
    }
   ],
   "source": [
    "## Train the agent\n",
    "print('Training initiated...')\n",
    "ep_rewards = []\n",
    "for episode in range(1, EPISODES+1):\n",
    "    init_time = time()\n",
    "    state = env.reset()\n",
    "    ep_reward = 0\n",
    "    done=False\n",
    "    while not done:\n",
    "        action = dqnAgent.get_action(state)\n",
    "        next_state, reward, done, info = env.step(action)\n",
    "        dqnAgent.memory.push(state, action, reward, next_state, done)\n",
    "        ep_reward += reward\n",
    "        state = next_state\n",
    "\n",
    "        if dqnAgent.epsilon >= dqnAgent.epsilon_min: \n",
    "            dqnAgent.epsilon *= dqnAgent.epsilon_decay # decaying exploration/exploitation\n",
    "    time_taken = time() - init_time\n",
    "    loss = dqnAgent.train_model(action, state, next_state, reward, done)\n",
    "    losses.append(loss)\n",
    "    ep_rewards.append(ep_reward)\n",
    "    if episode % 10 == 0:\n",
    "        print('Episode {} of {}:\\n   reward: {:.2f} \\n   loss: {:.2f} \\n   \\u03B5: {:.3f} \\n   time taken: {:.2f} sec'.format(episode, EPISODES, ep_reward, loss, dqnAgent.epsilon, time_taken))\n",
    "        \n",
    "print('Training ended.')"
   ]
  },
  {
   "cell_type": "code",
   "execution_count": 11,
   "metadata": {},
   "outputs": [
    {
     "data": {
      "image/png": "[encoded data removed]",
      "text/plain": [
       "<Figure size 432x288 with 1 Axes>"
      ]
     },
     "metadata": {
      "needs_background": "light"
     },
     "output_type": "display_data"
    }
   ],
   "source": [
    "plt.plot(losses)\n",
    "plt.yscale('log')\n",
    "plt.show()"
   ]
  },
  {
   "cell_type": "code",
   "execution_count": 13,
   "metadata": {},
   "outputs": [
    {
     "data": {
      "text/plain": [
       "3.148962832710822e-07"
      ]
     },
     "execution_count": 13,
     "metadata": {},
     "output_type": "execute_result"
    }
   ],
   "source": [
    "min(losses)\n"
   ]
  },
  {
   "cell_type": "code",
   "execution_count": null,
   "metadata": {},
   "outputs": [],
   "source": []
  }
 ],
 "metadata": {
  "kernelspec": {
   "display_name": "Python 3",
   "language": "python",
   "name": "python3"
  },
  "language_info": {
   "codemirror_mode": {
    "name": "ipython",
    "version": 3
   },
   "file_extension": ".py",
   "mimetype": "text/x-python",
   "name": "python",
   "nbconvert_exporter": "python",
   "pygments_lexer": "ipython3",
   "version": "3.7.2"
  },
  "latex_envs": {
   "LaTeX_envs_menu_present": true,
   "autoclose": false,
   "autocomplete": true,
   "bibliofile": "biblio.bib",
   "cite_by": "apalike",
   "current_citInitial": 1,
   "eqLabelWithNumbers": true,
   "eqNumInitial": 1,
   "hotkeys": {
    "equation": "Ctrl-E",
    "itemize": "Ctrl-I"
   },
   "labels_anchors": false,
   "latex_user_defs": false,
   "report_style_numbering": false,
   "user_envs_cfg": false
  },
  "toc": {
   "base_numbering": 1,
   "nav_menu": {},
   "number_sections": true,
   "sideBar": true,
   "skip_h1_title": false,
   "title_cell": "Table of Contents",
   "title_sidebar": "Contents",
   "toc_cell": true,
   "toc_position": {},
   "toc_section_display": true,
   "toc_window_display": false
  }
 },
 "nbformat": 4,
 "nbformat_minor": 4
}
